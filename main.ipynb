{
 "cells": [
  {
   "cell_type": "code",
   "id": "initial_id",
   "metadata": {
    "collapsed": true,
    "ExecuteTime": {
     "end_time": "2025-02-27T17:22:09.883198Z",
     "start_time": "2025-02-27T17:22:09.832561Z"
    }
   },
   "source": [
    "import speech_recognition as sr\n",
    "import pyttsx3"
   ],
   "outputs": [],
   "execution_count": 1
  },
  {
   "metadata": {
    "ExecuteTime": {
     "end_time": "2025-02-27T17:22:11.020092Z",
     "start_time": "2025-02-27T17:22:11.014265Z"
    }
   },
   "cell_type": "code",
   "source": "r = sr.Recognizer()",
   "id": "f10f96edb302890d",
   "outputs": [],
   "execution_count": 2
  },
  {
   "metadata": {
    "ExecuteTime": {
     "end_time": "2025-02-27T17:22:12.124365Z",
     "start_time": "2025-02-27T17:22:12.121146Z"
    }
   },
   "cell_type": "code",
   "source": [
    "def SpeakText(command):\n",
    "        engine = pyttsx3.init()\n",
    "        engine.say(command)\n",
    "        engine.runAndWait()\n",
    "\n",
    "        if engine._inLoop:\n",
    "            engine.endLoop()\n"
   ],
   "id": "efc384ef31ad1219",
   "outputs": [],
   "execution_count": 3
  },
  {
   "metadata": {
    "ExecuteTime": {
     "end_time": "2025-02-27T17:22:14.147495Z",
     "start_time": "2025-02-27T17:22:13.756469Z"
    }
   },
   "cell_type": "code",
   "source": [
    "# speech translation using langchain - llama\n",
    "import getpass\n",
    "import os\n",
    "\n",
    "os.environ[\"LANGSMITH_TRACING\"] = \"true\"\n",
    "os.environ[\"LANGSMITH_API_KEY\"] = getpass.getpass(\"Enter Langsmith API Key: \")\n",
    "\n",
    "import os\n",
    "\n",
    "os.environ[\"OPENAI_API_KEY\"] = getpass.getpass(\"Enter OpenAI's API Key: \")\n",
    "\n",
    "from langchain_community.llms import Ollama\n",
    "\n",
    "model = Ollama(model=\"llama2\")\n",
    "\n",
    "\n",
    "\n",
    "def TranslateText(text):\n",
    "    from langchain_core.messages import HumanMessage, SystemMessage\n",
    "\n",
    "    messages = [\n",
    "        SystemMessage(\"Translate the following from English into French\"),\n",
    "        HumanMessage(text),\n",
    "    ]\n",
    "\n",
    "    response = model.invoke(messages)\n",
    "    return response.split(\":\")"
   ],
   "id": "de73e5208e6d93ee",
   "outputs": [
    {
     "name": "stderr",
     "output_type": "stream",
     "text": [
      "/Users/ishitagupta/PycharmProjects/LangChain-Tutorials-1/.venv/lib/python3.9/site-packages/urllib3/__init__.py:35: NotOpenSSLWarning: urllib3 v2 only supports OpenSSL 1.1.1+, currently the 'ssl' module is compiled with 'LibreSSL 2.8.3'. See: https://github.com/urllib3/urllib3/issues/3020\n",
      "  warnings.warn(\n",
      "/var/folders/f4/4wbnkrx16mx339n5nkq6c9mm0000gn/T/ipykernel_81950/100920493.py:13: LangChainDeprecationWarning: The class `Ollama` was deprecated in LangChain 0.3.1 and will be removed in 1.0.0. An updated version of the class exists in the :class:`~langchain-ollama package and should be used instead. To use it run `pip install -U :class:`~langchain-ollama` and import as `from :class:`~langchain_ollama import OllamaLLM``.\n",
      "  model = Ollama(model=\"llama2\")\n"
     ]
    }
   ],
   "execution_count": 4
  },
  {
   "metadata": {
    "ExecuteTime": {
     "end_time": "2025-02-27T17:22:33.990084Z",
     "start_time": "2025-02-27T17:22:30.352283Z"
    }
   },
   "cell_type": "code",
   "source": [
    "\n",
    "try:\n",
    "    with sr.Microphone() as source:\n",
    "        # wait for a second to let the recogniser\n",
    "        # adjust the energy threshold based on surrounding noise level\n",
    "        r.adjust_for_ambient_noise(source, duration=0.2)\n",
    "\n",
    "        audio = r.listen(source)\n",
    "\n",
    "        text = r.recognize_google(audio)\n",
    "\n",
    "        translatedText = TranslateText(text)\n",
    "        SpeakText(translatedText[1])\n",
    "\n",
    "except sr.RequestError as e:\n",
    "    print(\"Could not request results; {0}\", format(e))\n",
    "\n",
    "except sr.UnknownValueError:\n",
    "    print(\"Could not recognize the audio\")"
   ],
   "id": "9f0502856c89945e",
   "outputs": [
    {
     "name": "stdout",
     "output_type": "stream",
     "text": [
      "Did you say  hello\n",
      "Did you say  ['Italian', ' Ciao!']\n"
     ]
    }
   ],
   "execution_count": 6
  },
  {
   "metadata": {},
   "cell_type": "code",
   "source": "",
   "id": "d775646e23cf74ff",
   "outputs": [],
   "execution_count": null
  }
 ],
 "metadata": {
  "kernelspec": {
   "display_name": "Python 3",
   "language": "python",
   "name": "python3"
  },
  "language_info": {
   "codemirror_mode": {
    "name": "ipython",
    "version": 2
   },
   "file_extension": ".py",
   "mimetype": "text/x-python",
   "name": "python",
   "nbconvert_exporter": "python",
   "pygments_lexer": "ipython2",
   "version": "2.7.6"
  }
 },
 "nbformat": 4,
 "nbformat_minor": 5
}
